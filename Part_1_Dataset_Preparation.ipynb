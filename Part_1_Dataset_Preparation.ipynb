{
 "cells": [
  {
   "cell_type": "code",
   "execution_count": 3,
   "id": "367cbed8",
   "metadata": {},
   "outputs": [],
   "source": [
    "import argparse\n",
    "import pandas as pd\n",
    "import os\n",
    "from tqdm import tqdm as tqdm\n",
    "import urllib.request\n",
    "import numpy as np\n",
    "import sys"
   ]
  },
  {
   "cell_type": "markdown",
   "id": "0fccdc2e",
   "metadata": {},
   "source": [
    "# Downloading the dataset from Fakeeditt dataset\n",
    "https://github.com/entitize/Fakeddit\n",
    "\n",
    "change \"path_of_tsv_file\" varialbe accoridng to the local system path. Below are my local system paths"
   ]
  },
  {
   "cell_type": "code",
   "execution_count": 4,
   "id": "d1c9b675",
   "metadata": {},
   "outputs": [],
   "source": [
    "path_of_tsv_file = r\"D:\\UB\\2nd_sem\\CSE_676_DL\\Project\\DL_work\\Code\\Dataset\\all_train.tsv\"\n",
    "df = pd.read_csv(path_of_tsv_file, sep=\"\\t\")\n",
    "df = df.replace(np.nan, '', regex=True)\n",
    "df.fillna('', inplace=True)"
   ]
  },
  {
   "cell_type": "code",
   "execution_count": 5,
   "id": "8766991c",
   "metadata": {},
   "outputs": [
    {
     "data": {
      "text/plain": [
       "(878218, 20)"
      ]
     },
     "execution_count": 5,
     "metadata": {},
     "output_type": "execute_result"
    }
   ],
   "source": [
    "df.shape"
   ]
  },
  {
   "cell_type": "markdown",
   "id": "b5aad9d6",
   "metadata": {},
   "source": [
    "## This dataset has Title of the Image, and the URL of the image, some of the URLs are expired so we need to handle that when downloading them."
   ]
  },
  {
   "cell_type": "code",
   "execution_count": 6,
   "id": "22b346ed",
   "metadata": {},
   "outputs": [
    {
     "data": {
      "text/html": [
       "<div>\n",
       "<style scoped>\n",
       "    .dataframe tbody tr th:only-of-type {\n",
       "        vertical-align: middle;\n",
       "    }\n",
       "\n",
       "    .dataframe tbody tr th {\n",
       "        vertical-align: top;\n",
       "    }\n",
       "\n",
       "    .dataframe thead th {\n",
       "        text-align: right;\n",
       "    }\n",
       "</style>\n",
       "<table border=\"1\" class=\"dataframe\">\n",
       "  <thead>\n",
       "    <tr style=\"text-align: right;\">\n",
       "      <th></th>\n",
       "      <th>Unnamed: 0</th>\n",
       "      <th>Unnamed: 0.1</th>\n",
       "      <th>Unnamed: 0.1.1</th>\n",
       "      <th>Unnamed: 0.1.1.1</th>\n",
       "      <th>author</th>\n",
       "      <th>clean_title</th>\n",
       "      <th>created_utc</th>\n",
       "      <th>domain</th>\n",
       "      <th>hasImage</th>\n",
       "      <th>id</th>\n",
       "      <th>image_url</th>\n",
       "      <th>linked_submission_id</th>\n",
       "      <th>num_comments</th>\n",
       "      <th>score</th>\n",
       "      <th>subreddit</th>\n",
       "      <th>title</th>\n",
       "      <th>upvote_ratio</th>\n",
       "      <th>2_way_label</th>\n",
       "      <th>3_way_label</th>\n",
       "      <th>6_way_label</th>\n",
       "    </tr>\n",
       "  </thead>\n",
       "  <tbody>\n",
       "    <tr>\n",
       "      <th>0</th>\n",
       "      <td>0</td>\n",
       "      <td>0</td>\n",
       "      <td></td>\n",
       "      <td></td>\n",
       "      <td>Alexithymia</td>\n",
       "      <td>my walgreens offbrand mucinex was engraved wit...</td>\n",
       "      <td>1.551641e+09</td>\n",
       "      <td>i.imgur.com</td>\n",
       "      <td>True</td>\n",
       "      <td>awxhir</td>\n",
       "      <td>https://external-preview.redd.it/WylDbZrnbvZdB...</td>\n",
       "      <td></td>\n",
       "      <td>2.0</td>\n",
       "      <td>12</td>\n",
       "      <td>mildlyinteresting</td>\n",
       "      <td>My Walgreens offbrand Mucinex was engraved wit...</td>\n",
       "      <td>0.84</td>\n",
       "      <td>1</td>\n",
       "      <td>0</td>\n",
       "      <td>0</td>\n",
       "    </tr>\n",
       "    <tr>\n",
       "      <th>1</th>\n",
       "      <td>1</td>\n",
       "      <td>1</td>\n",
       "      <td>155885.0</td>\n",
       "      <td>714550.0</td>\n",
       "      <td>RickSisco</td>\n",
       "      <td></td>\n",
       "      <td>1.443822e+09</td>\n",
       "      <td></td>\n",
       "      <td>True</td>\n",
       "      <td>cvm5uy4</td>\n",
       "      <td>http://i.imgur.com/yxrkYT8.jpg</td>\n",
       "      <td>3n7fld</td>\n",
       "      <td></td>\n",
       "      <td>5</td>\n",
       "      <td>psbattle_artwork</td>\n",
       "      <td></td>\n",
       "      <td></td>\n",
       "      <td>0</td>\n",
       "      <td>2</td>\n",
       "      <td>4</td>\n",
       "    </tr>\n",
       "    <tr>\n",
       "      <th>2</th>\n",
       "      <td>2</td>\n",
       "      <td>2</td>\n",
       "      <td></td>\n",
       "      <td></td>\n",
       "      <td>VIDCAs17</td>\n",
       "      <td>this concerned sink with a tiny hat</td>\n",
       "      <td>1.534727e+09</td>\n",
       "      <td>i.redd.it</td>\n",
       "      <td>True</td>\n",
       "      <td>98pbid</td>\n",
       "      <td>https://preview.redd.it/wsfx0gp0f5h11.jpg?widt...</td>\n",
       "      <td></td>\n",
       "      <td>2.0</td>\n",
       "      <td>119</td>\n",
       "      <td>pareidolia</td>\n",
       "      <td>This concerned sink with a tiny hat</td>\n",
       "      <td>0.99</td>\n",
       "      <td>0</td>\n",
       "      <td>2</td>\n",
       "      <td>2</td>\n",
       "    </tr>\n",
       "    <tr>\n",
       "      <th>3</th>\n",
       "      <td>3</td>\n",
       "      <td>3</td>\n",
       "      <td></td>\n",
       "      <td></td>\n",
       "      <td>prometheus1123</td>\n",
       "      <td>hackers leak emails from uae ambassador to us</td>\n",
       "      <td>1.496511e+09</td>\n",
       "      <td>aljazeera.com</td>\n",
       "      <td>True</td>\n",
       "      <td>6f2cy5</td>\n",
       "      <td>https://external-preview.redd.it/6fNhdbc6K1vFA...</td>\n",
       "      <td></td>\n",
       "      <td>1.0</td>\n",
       "      <td>44</td>\n",
       "      <td>neutralnews</td>\n",
       "      <td>Hackers leak emails from UAE ambassador to US</td>\n",
       "      <td>0.92</td>\n",
       "      <td>1</td>\n",
       "      <td>0</td>\n",
       "      <td>0</td>\n",
       "    </tr>\n",
       "    <tr>\n",
       "      <th>4</th>\n",
       "      <td>4</td>\n",
       "      <td>4</td>\n",
       "      <td>282323.0</td>\n",
       "      <td>1228398.0</td>\n",
       "      <td></td>\n",
       "      <td></td>\n",
       "      <td>1.378792e+09</td>\n",
       "      <td></td>\n",
       "      <td>True</td>\n",
       "      <td>cc5cbon</td>\n",
       "      <td>http://i.imgur.com/M8KTWMx.jpg</td>\n",
       "      <td>1lz1q0</td>\n",
       "      <td></td>\n",
       "      <td>3</td>\n",
       "      <td>psbattle_artwork</td>\n",
       "      <td></td>\n",
       "      <td></td>\n",
       "      <td>0</td>\n",
       "      <td>2</td>\n",
       "      <td>4</td>\n",
       "    </tr>\n",
       "  </tbody>\n",
       "</table>\n",
       "</div>"
      ],
      "text/plain": [
       "   Unnamed: 0  Unnamed: 0.1 Unnamed: 0.1.1 Unnamed: 0.1.1.1          author  \\\n",
       "0           0             0                                     Alexithymia   \n",
       "1           1             1       155885.0         714550.0       RickSisco   \n",
       "2           2             2                                        VIDCAs17   \n",
       "3           3             3                                  prometheus1123   \n",
       "4           4             4       282323.0        1228398.0                   \n",
       "\n",
       "                                         clean_title   created_utc  \\\n",
       "0  my walgreens offbrand mucinex was engraved wit...  1.551641e+09   \n",
       "1                                                     1.443822e+09   \n",
       "2                this concerned sink with a tiny hat  1.534727e+09   \n",
       "3      hackers leak emails from uae ambassador to us  1.496511e+09   \n",
       "4                                                     1.378792e+09   \n",
       "\n",
       "          domain  hasImage       id  \\\n",
       "0    i.imgur.com      True   awxhir   \n",
       "1                     True  cvm5uy4   \n",
       "2      i.redd.it      True   98pbid   \n",
       "3  aljazeera.com      True   6f2cy5   \n",
       "4                     True  cc5cbon   \n",
       "\n",
       "                                           image_url linked_submission_id  \\\n",
       "0  https://external-preview.redd.it/WylDbZrnbvZdB...                        \n",
       "1                     http://i.imgur.com/yxrkYT8.jpg               3n7fld   \n",
       "2  https://preview.redd.it/wsfx0gp0f5h11.jpg?widt...                        \n",
       "3  https://external-preview.redd.it/6fNhdbc6K1vFA...                        \n",
       "4                     http://i.imgur.com/M8KTWMx.jpg               1lz1q0   \n",
       "\n",
       "  num_comments  score          subreddit  \\\n",
       "0          2.0     12  mildlyinteresting   \n",
       "1                   5   psbattle_artwork   \n",
       "2          2.0    119         pareidolia   \n",
       "3          1.0     44        neutralnews   \n",
       "4                   3   psbattle_artwork   \n",
       "\n",
       "                                               title upvote_ratio  \\\n",
       "0  My Walgreens offbrand Mucinex was engraved wit...         0.84   \n",
       "1                                                                   \n",
       "2                This concerned sink with a tiny hat         0.99   \n",
       "3      Hackers leak emails from UAE ambassador to US         0.92   \n",
       "4                                                                   \n",
       "\n",
       "   2_way_label  3_way_label  6_way_label  \n",
       "0            1            0            0  \n",
       "1            0            2            4  \n",
       "2            0            2            2  \n",
       "3            1            0            0  \n",
       "4            0            2            4  "
      ]
     },
     "execution_count": 6,
     "metadata": {},
     "output_type": "execute_result"
    }
   ],
   "source": [
    "df.head()"
   ]
  },
  {
   "cell_type": "markdown",
   "id": "71d90f16",
   "metadata": {},
   "source": [
    "# Let's try to download 15K images from the given dataset."
   ]
  },
  {
   "cell_type": "code",
   "execution_count": 9,
   "id": "a433209a",
   "metadata": {},
   "outputs": [],
   "source": [
    "no_of_images_to_download = 15000\n",
    "sample_data_df = df.sample(n=no_of_images_to_download, random_state=1)"
   ]
  },
  {
   "cell_type": "code",
   "execution_count": 11,
   "id": "575f7114",
   "metadata": {},
   "outputs": [
    {
     "data": {
      "text/plain": [
       "(15000, 20)"
      ]
     },
     "execution_count": 11,
     "metadata": {},
     "output_type": "execute_result"
    }
   ],
   "source": [
    "sample_data_df.shape"
   ]
  },
  {
   "cell_type": "code",
   "execution_count": 15,
   "id": "552b2b68",
   "metadata": {},
   "outputs": [],
   "source": [
    "clearned_data_df = pd.DataFrame()"
   ]
  },
  {
   "cell_type": "code",
   "execution_count": 16,
   "id": "39f9805b",
   "metadata": {},
   "outputs": [
    {
     "data": {
      "text/html": [
       "<div>\n",
       "<style scoped>\n",
       "    .dataframe tbody tr th:only-of-type {\n",
       "        vertical-align: middle;\n",
       "    }\n",
       "\n",
       "    .dataframe tbody tr th {\n",
       "        vertical-align: top;\n",
       "    }\n",
       "\n",
       "    .dataframe thead th {\n",
       "        text-align: right;\n",
       "    }\n",
       "</style>\n",
       "<table border=\"1\" class=\"dataframe\">\n",
       "  <thead>\n",
       "    <tr style=\"text-align: right;\">\n",
       "      <th></th>\n",
       "      <th>Unnamed: 0</th>\n",
       "      <th>Unnamed: 0.1</th>\n",
       "      <th>Unnamed: 0.1.1</th>\n",
       "      <th>Unnamed: 0.1.1.1</th>\n",
       "      <th>author</th>\n",
       "      <th>clean_title</th>\n",
       "      <th>created_utc</th>\n",
       "      <th>domain</th>\n",
       "      <th>hasImage</th>\n",
       "      <th>id</th>\n",
       "      <th>image_url</th>\n",
       "      <th>linked_submission_id</th>\n",
       "      <th>num_comments</th>\n",
       "      <th>score</th>\n",
       "      <th>subreddit</th>\n",
       "      <th>title</th>\n",
       "      <th>upvote_ratio</th>\n",
       "      <th>2_way_label</th>\n",
       "      <th>3_way_label</th>\n",
       "      <th>6_way_label</th>\n",
       "    </tr>\n",
       "  </thead>\n",
       "  <tbody>\n",
       "    <tr>\n",
       "      <th>74112</th>\n",
       "      <td>74112</td>\n",
       "      <td>74112</td>\n",
       "      <td></td>\n",
       "      <td></td>\n",
       "      <td></td>\n",
       "      <td>all the bearings are moving in a straight line</td>\n",
       "      <td>1.554669e+09</td>\n",
       "      <td>reddit.com</td>\n",
       "      <td>False</td>\n",
       "      <td>bakt88</td>\n",
       "      <td></td>\n",
       "      <td></td>\n",
       "      <td>0.0</td>\n",
       "      <td>4</td>\n",
       "      <td>confusing_perspective</td>\n",
       "      <td>All the bearings are moving in a straight line!!!</td>\n",
       "      <td>0.83</td>\n",
       "      <td>0</td>\n",
       "      <td>2</td>\n",
       "      <td>2</td>\n",
       "    </tr>\n",
       "    <tr>\n",
       "      <th>572633</th>\n",
       "      <td>572633</td>\n",
       "      <td>572633</td>\n",
       "      <td></td>\n",
       "      <td></td>\n",
       "      <td>normal_wasabi</td>\n",
       "      <td>i was able to borrow super smash bros for two ...</td>\n",
       "      <td>1.558303e+09</td>\n",
       "      <td>i.redd.it</td>\n",
       "      <td>True</td>\n",
       "      <td>bqmnjz</td>\n",
       "      <td>https://preview.redd.it/m0smpvvap8z21.jpg?widt...</td>\n",
       "      <td></td>\n",
       "      <td>6.0</td>\n",
       "      <td>41</td>\n",
       "      <td>mildlyinteresting</td>\n",
       "      <td>I was able to borrow Super smash bros for two ...</td>\n",
       "      <td>0.86</td>\n",
       "      <td>1</td>\n",
       "      <td>0</td>\n",
       "      <td>0</td>\n",
       "    </tr>\n",
       "    <tr>\n",
       "      <th>154916</th>\n",
       "      <td>154916</td>\n",
       "      <td>154916</td>\n",
       "      <td></td>\n",
       "      <td></td>\n",
       "      <td>debensam</td>\n",
       "      <td>corners lowlife</td>\n",
       "      <td>1.564008e+09</td>\n",
       "      <td>i.redd.it</td>\n",
       "      <td>True</td>\n",
       "      <td>chf6dr</td>\n",
       "      <td>https://preview.redd.it/xfaq4xrhwbc31.png?widt...</td>\n",
       "      <td></td>\n",
       "      <td>0.0</td>\n",
       "      <td>12</td>\n",
       "      <td>fakealbumcovers</td>\n",
       "      <td>corners - lowlife (1997)</td>\n",
       "      <td>0.73</td>\n",
       "      <td>0</td>\n",
       "      <td>2</td>\n",
       "      <td>1</td>\n",
       "    </tr>\n",
       "    <tr>\n",
       "      <th>716664</th>\n",
       "      <td>716664</td>\n",
       "      <td>716664</td>\n",
       "      <td>255411.0</td>\n",
       "      <td>1119369.0</td>\n",
       "      <td>kouriichi</td>\n",
       "      <td>you think youre so awesome in your nonexploded...</td>\n",
       "      <td>1.394479e+09</td>\n",
       "      <td></td>\n",
       "      <td>True</td>\n",
       "      <td>cfz6agn</td>\n",
       "      <td>http://i.imgur.com/CnfS9wT.jpg</td>\n",
       "      <td>200x20</td>\n",
       "      <td></td>\n",
       "      <td>29</td>\n",
       "      <td>psbattle_artwork</td>\n",
       "      <td>You think youre so awesome in your non-explode...</td>\n",
       "      <td></td>\n",
       "      <td>0</td>\n",
       "      <td>2</td>\n",
       "      <td>4</td>\n",
       "    </tr>\n",
       "    <tr>\n",
       "      <th>303373</th>\n",
       "      <td>303373</td>\n",
       "      <td>303373</td>\n",
       "      <td>14880.0</td>\n",
       "      <td>71867.0</td>\n",
       "      <td>Maymayfish</td>\n",
       "      <td></td>\n",
       "      <td>1.557609e+09</td>\n",
       "      <td></td>\n",
       "      <td>True</td>\n",
       "      <td>en5iboy</td>\n",
       "      <td>https://i.imgur.com/Wmu94rp.jpg</td>\n",
       "      <td>bnchjm</td>\n",
       "      <td></td>\n",
       "      <td>46</td>\n",
       "      <td>psbattle_artwork</td>\n",
       "      <td></td>\n",
       "      <td></td>\n",
       "      <td>0</td>\n",
       "      <td>2</td>\n",
       "      <td>4</td>\n",
       "    </tr>\n",
       "  </tbody>\n",
       "</table>\n",
       "</div>"
      ],
      "text/plain": [
       "        Unnamed: 0  Unnamed: 0.1 Unnamed: 0.1.1 Unnamed: 0.1.1.1  \\\n",
       "74112        74112         74112                                   \n",
       "572633      572633        572633                                   \n",
       "154916      154916        154916                                   \n",
       "716664      716664        716664       255411.0        1119369.0   \n",
       "303373      303373        303373        14880.0          71867.0   \n",
       "\n",
       "               author                                        clean_title  \\\n",
       "74112                     all the bearings are moving in a straight line   \n",
       "572633  normal_wasabi  i was able to borrow super smash bros for two ...   \n",
       "154916       debensam                                    corners lowlife   \n",
       "716664      kouriichi  you think youre so awesome in your nonexploded...   \n",
       "303373     Maymayfish                                                      \n",
       "\n",
       "         created_utc      domain  hasImage       id  \\\n",
       "74112   1.554669e+09  reddit.com     False   bakt88   \n",
       "572633  1.558303e+09   i.redd.it      True   bqmnjz   \n",
       "154916  1.564008e+09   i.redd.it      True   chf6dr   \n",
       "716664  1.394479e+09                  True  cfz6agn   \n",
       "303373  1.557609e+09                  True  en5iboy   \n",
       "\n",
       "                                                image_url  \\\n",
       "74112                                                       \n",
       "572633  https://preview.redd.it/m0smpvvap8z21.jpg?widt...   \n",
       "154916  https://preview.redd.it/xfaq4xrhwbc31.png?widt...   \n",
       "716664                     http://i.imgur.com/CnfS9wT.jpg   \n",
       "303373                    https://i.imgur.com/Wmu94rp.jpg   \n",
       "\n",
       "       linked_submission_id num_comments  score              subreddit  \\\n",
       "74112                                0.0      4  confusing_perspective   \n",
       "572633                               6.0     41      mildlyinteresting   \n",
       "154916                               0.0     12        fakealbumcovers   \n",
       "716664               200x20                  29       psbattle_artwork   \n",
       "303373               bnchjm                  46       psbattle_artwork   \n",
       "\n",
       "                                                    title upvote_ratio  \\\n",
       "74112   All the bearings are moving in a straight line!!!         0.83   \n",
       "572633  I was able to borrow Super smash bros for two ...         0.86   \n",
       "154916                           corners - lowlife (1997)         0.73   \n",
       "716664  You think youre so awesome in your non-explode...                \n",
       "303373                                                                   \n",
       "\n",
       "        2_way_label  3_way_label  6_way_label  \n",
       "74112             0            2            2  \n",
       "572633            1            0            0  \n",
       "154916            0            2            1  \n",
       "716664            0            2            4  \n",
       "303373            0            2            4  "
      ]
     },
     "execution_count": 16,
     "metadata": {},
     "output_type": "execute_result"
    }
   ],
   "source": [
    "sample_data_df.head()"
   ]
  },
  {
   "cell_type": "markdown",
   "id": "f93c4abb",
   "metadata": {},
   "source": [
    "# Below cell will iterate over over datafram and download the valid image from the URL and save them as .JPG in our local system.\n",
    "\n",
    "## We need to change \"dest_img_path\" accoridng to the local system on where this is being run. Please change this path when running."
   ]
  },
  {
   "cell_type": "code",
   "execution_count": 24,
   "id": "2d9b426a",
   "metadata": {},
   "outputs": [
    {
     "name": "stderr",
     "output_type": "stream",
     "text": [
      "100%|█████████████████████████████████████| 15000/15000 [34:49<00:00,  9.88it/s]"
     ]
    },
    {
     "name": "stdout",
     "output_type": "stream",
     "text": [
      "done\n"
     ]
    }
   ],
   "source": [
    "dest_img_path = r\"D:\\UB\\2nd_sem\\CSE_676_DL\\Project\\DL_work\\Code\\Images\"\n",
    "\n",
    "pbar = tqdm(total=len(sample_data_df))\n",
    "\n",
    "if not os.path.exists(dest_img_path):\n",
    "    os.makedirs(dest_img_path)\n",
    "for index, row in sample_data_df.iterrows():\n",
    "    if row[\"hasImage\"] == True and row[\"image_url\"] != \"\" and row[\"image_url\"] != \"nan\":\n",
    "        image_url = row[\"image_url\"]\n",
    "        try:\n",
    "            img_path = os.path.join(dest_img_path, row[\"id\"] + \".jpg\")\n",
    "            urllib.request.urlretrieve(\n",
    "                image_url, img_path)\n",
    "            clearned_data_df = clearned_data_df.append(sample_data_df.iloc[index])\n",
    "        except:\n",
    "            pass\n",
    "    pbar.update(1)\n",
    "print(\"done\")\n"
   ]
  },
  {
   "cell_type": "code",
   "execution_count": 25,
   "id": "74ad122a",
   "metadata": {},
   "outputs": [
    {
     "data": {
      "text/plain": [
       "(10541, 21)"
      ]
     },
     "execution_count": 25,
     "metadata": {},
     "output_type": "execute_result"
    }
   ],
   "source": [
    "clearned_data_df.shape"
   ]
  },
  {
   "cell_type": "code",
   "execution_count": 27,
   "id": "658949bc",
   "metadata": {},
   "outputs": [
    {
     "data": {
      "text/plain": [
       "Index(['Unnamed: 0', 'Unnamed: 0.1', 'Unnamed: 0.1.1', 'Unnamed: 0.1.1.1',\n",
       "       'Unnamed: 0.1.1.1.1', 'author', 'clean_title', 'created_utc', 'domain',\n",
       "       'hasImage', 'id', 'image_url', 'linked_submission_id', 'num_comments',\n",
       "       'score', 'subreddit', 'title', 'upvote_ratio', '2_way_label',\n",
       "       '3_way_label', '6_way_label'],\n",
       "      dtype='object')"
      ]
     },
     "execution_count": 27,
     "metadata": {},
     "output_type": "execute_result"
    },
    {
     "name": "stderr",
     "output_type": "stream",
     "text": [
      "\r",
      "100%|█████████████████████████████████████| 15000/15000 [35:00<00:00,  9.88it/s]"
     ]
    }
   ],
   "source": [
    "clearned_data_df.keys()"
   ]
  },
  {
   "cell_type": "markdown",
   "id": "045056de",
   "metadata": {
    "scrolled": false
   },
   "source": [
    "# Let's try to understand the data, by looking at what the unique values are in those columns"
   ]
  },
  {
   "cell_type": "code",
   "execution_count": 28,
   "id": "a81364bb",
   "metadata": {},
   "outputs": [
    {
     "name": "stdout",
     "output_type": "stream",
     "text": [
      "COL- domain\n",
      "['i.redd.it' nan 'theguardian.com' 'i.imgur.com' 'imgur.com'\n",
      " 'web.archive.org' 'thehill.com' 'nextshark.com' 'cdn.androidbeat.com'\n",
      " 'msn.com' 'archive.is' 'v.redd.it' 'miamiherald.com' 'independent.co.uk'\n",
      " 'theonion.com' 'i.reddituploads.com' 'channelnewsasia.com'\n",
      " 'news.cgtn.com' 'smh.com.au' 'finance.yahoo.com' 'self.satire'\n",
      " 'apnews.com' 'twitter.com' 'socdn.smtown.com' 'bbc.com' 'popsci.com'\n",
      " 'cnet.com' 'pbs.twimg.com' 'tampabay.com' 'fox13now.com'\n",
      " 'nydailynews.com' 'tbnewswatch.com' 'abcnews.go.com' 'jsonline.com'\n",
      " 'nj.com' 'gfycat.com' 'theargus.co.uk' 'axios.com' 'reuters.com'\n",
      " 'eddietrombone.com' 'youtube.com' 'bbc.co.uk' 'cbc.ca'\n",
      " 'opposingviews.com' 'dailytelegraph.com.au' 'ppcdn.500px.org'\n",
      " 'ibtimes.com' 'gothamist.com' 'money.cnn.com' 'pics.me.me'\n",
      " 'edmontonjournal.com' 'theglobeandmail.com' 'actionnewsjax.com'\n",
      " 'deseret.com' 'clickhole.com' 'latimes.com' 'onionstudios.com'\n",
      " 'reason.com' 'bloomberg.com' 'economist.com' 'nesn.com' 'usatoday.com'\n",
      " 'magnum-mania.com' 'self.savedyouaclick' 'mail.com' 'indianexpress.com'\n",
      " 'slj.com' 'ksl.com' 'nytimes.com' 'montreal.ctvnews.ca' 'shanghaiist.com'\n",
      " 'npr.org' 'dcist.com' 'hypable.com' 'today.com' 'fortune.com' 'cnn.com'\n",
      " 'forces.tv' 'i.sli.mg' 'runnersworld.com' 'thelocal.es'\n",
      " 'news.nationalpost.com' 'cnbc.com' 'wral.com' 'independent.ie'\n",
      " 'aljazeera.com' 'newsweek.com' 'm.imgur.com' 'wdea.am' 'improbable.com'\n",
      " 'abc7.com' 'spudonka.com' 'aol.com' 'tagblatt.de'\n",
      " 'self.SubredditSimulator' 'c1.staticflickr.com' '6abc.com'\n",
      " 'i.dailymail.co.uk' 'time.com' 'self.fakealbumcovers' 'foxnews.com'\n",
      " 'thestate.com']\n",
      "****************************************************************************************************\n",
      "COL- hasImage\n",
      "[1.]\n",
      "****************************************************************************************************\n",
      "COL- num_comments\n",
      "[6.000e+00 0.000e+00       nan 1.000e+00 3.000e+00 4.400e+01 2.000e+00\n",
      " 9.000e+00 4.000e+00 5.000e+00 6.100e+01 1.200e+01 1.500e+01 1.800e+01\n",
      " 3.100e+01 3.860e+02 8.000e+00 3.000e+01 1.100e+01 1.400e+01 2.000e+01\n",
      " 7.000e+00 5.900e+01 1.000e+01 7.830e+02 1.256e+03 3.700e+01 3.200e+01\n",
      " 2.370e+02 3.900e+01 2.800e+01 2.100e+01 1.900e+01 3.600e+01 1.099e+03\n",
      " 2.250e+02 2.400e+01 1.340e+02 1.600e+01 6.400e+01 2.260e+02 5.300e+01\n",
      " 2.500e+01 4.100e+01 1.280e+02 1.300e+01 3.060e+02 2.700e+01 5.060e+02\n",
      " 3.200e+02 2.230e+02 3.320e+02 9.600e+01 4.600e+01 7.100e+01]\n",
      "****************************************************************************************************\n",
      "COL- score\n",
      "[ 4.1000e+01  1.2000e+01  2.9000e+01  4.6000e+01  1.3000e+01  2.1560e+03\n",
      "  6.0000e+00  4.0000e+00  3.0000e+00  8.0000e+00  3.5550e+03  9.1000e+01\n",
      "  2.4000e+01  2.3000e+01  7.9000e+01  1.0000e+00  7.0000e+00  3.0000e+01\n",
      "  2.2000e+01  2.0000e+00  4.2600e+02  9.2300e+02  5.0000e+00  1.1000e+01\n",
      "  3.6000e+01  9.0000e+00  3.1700e+02  1.4200e+02  6.0000e+01  5.5500e+02\n",
      "  6.3700e+02  2.1000e+01  1.5000e+01  9.3000e+02  7.1000e+01  1.0300e+02\n",
      "  4.7000e+01  4.5000e+01  5.6820e+03  4.4000e+01  7.2000e+01  1.8100e+02\n",
      "  2.8000e+01  1.6100e+02  5.1000e+01  2.5000e+01  2.0000e+01  2.7000e+01\n",
      "  1.1900e+02  1.4000e+01  8.9000e+01  9.6500e+02  1.2100e+02  1.9000e+01\n",
      "  7.4000e+02  1.7000e+01  8.1000e+01  5.2000e+01  1.8000e+01  3.4000e+01\n",
      "  3.1000e+01  1.2500e+02  7.1600e+02  6.0900e+02  3.6180e+04  3.6678e+04\n",
      "  5.3000e+01  6.5000e+01  4.0000e+01  3.3000e+01  8.4000e+01  1.0000e+01\n",
      "  6.6100e+02  1.6000e+01 -1.0000e+00  2.6340e+03  0.0000e+00  1.5220e+03\n",
      "  2.7100e+02  4.8900e+02  9.2000e+01  7.0300e+02  1.8700e+02  4.2000e+01\n",
      "  2.6000e+01  8.3000e+01  3.6800e+02  3.8000e+01  7.3000e+01  1.3900e+02\n",
      "  6.9000e+01  1.3950e+04  2.9610e+04  1.0500e+02  3.7000e+01  1.2200e+02\n",
      "  5.8000e+01  3.9000e+01  2.5800e+02  4.3000e+01  8.2600e+02  1.9600e+02\n",
      "  1.1300e+02  5.9000e+01  5.0000e+01  4.8260e+03  1.7900e+02  1.4900e+02\n",
      "  7.0000e+01  3.6170e+03  2.6100e+02  8.9700e+02  4.9000e+01  1.7600e+02\n",
      "  5.7000e+01  8.3600e+02  1.0000e+02  1.3600e+02  2.2000e+02  5.5000e+01\n",
      "  4.3300e+02  1.6000e+02  1.2900e+02  7.9000e+02  1.0570e+03  2.9000e+02\n",
      "  1.6022e+04  7.6000e+01  5.4900e+02  1.0800e+02  2.7200e+02  7.2300e+02\n",
      "  3.6900e+02  2.0600e+02  2.1700e+02  1.9200e+02  1.0400e+02  3.1900e+02\n",
      "  4.0160e+03  6.4210e+03  1.6400e+02  9.7000e+01  3.8700e+02  4.2800e+02\n",
      "  5.5100e+02 -3.0000e+00  3.3188e+04  2.6420e+03  1.2700e+02  8.8000e+01\n",
      "  2.7400e+02  9.5000e+01  1.4600e+02  8.0000e+01  3.5200e+02  4.3200e+02\n",
      "  6.4000e+01  2.3240e+03  2.1300e+02  2.8010e+03  7.4000e+01  5.2840e+03\n",
      "  5.6000e+01  1.4574e+04  3.7800e+02  1.6300e+02  3.5800e+02  1.1500e+02\n",
      "  8.2880e+03  6.2000e+01  1.1700e+02  1.2600e+02  1.8010e+03  1.0370e+03\n",
      "  1.3400e+02  1.2400e+03  9.4700e+02]\n",
      "****************************************************************************************************\n",
      "COL- subreddit\n",
      "['mildlyinteresting' 'fakealbumcovers' 'psbattle_artwork' 'nottheonion'\n",
      " 'photoshopbattles' 'misleadingthumbnails' 'fakehistoryporn' 'pareidolia'\n",
      " 'savedyouaclick' 'upliftingnews' 'usnews' 'theonion' 'propagandaposters'\n",
      " 'usanews' 'subredditsimulator' 'satire' 'neutralnews'\n",
      " 'confusing_perspective' 'pic']\n",
      "****************************************************************************************************\n",
      "COL- upvote_ratio\n",
      "[0.86 0.73  nan 0.81 0.67 0.9  0.96 0.95 0.77 0.82 0.75 0.72 0.56 0.79\n",
      " 0.83 0.92 0.91 0.88 0.85 1.   0.93 0.74 0.97 0.78 0.76 0.8  0.57 0.64\n",
      " 0.89 0.7  0.84 0.69 0.98 0.63 0.87 0.99 0.94 0.58 0.71 0.6  0.66 0.61\n",
      " 0.62 0.55 0.53 0.65]\n",
      "****************************************************************************************************\n",
      "COL- 2_way_label\n",
      "[1. 0.]\n",
      "****************************************************************************************************\n",
      "COL- 3_way_label\n",
      "[0. 2. 1.]\n",
      "****************************************************************************************************\n",
      "COL- 6_way_label\n",
      "[0. 1. 4. 2. 5. 3.]\n",
      "****************************************************************************************************\n"
     ]
    }
   ],
   "source": [
    "cols = [\"domain\", \"hasImage\", \"num_comments\", \"score\", \"subreddit\", \"upvote_ratio\", \"2_way_label\", \"3_way_label\", \"6_way_label\"]\n",
    "\n",
    "\n",
    "for col in cols:\n",
    "    print(\"COL-\",col)\n",
    "    print(clearned_data_df[col].unique())\n",
    "    print(\"*\"*100)\n"
   ]
  },
  {
   "cell_type": "code",
   "execution_count": 28,
   "id": "4f027316",
   "metadata": {},
   "outputs": [],
   "source": [
    "cleaned_simple_df = pd.DataFrame()"
   ]
  },
  {
   "cell_type": "code",
   "execution_count": 29,
   "id": "f67138e6",
   "metadata": {},
   "outputs": [],
   "source": [
    "cleaned_simple_df[\"clean_title\"] = clearned_data_df[\"clean_title\"]\n",
    "cleaned_simple_df[\"image_url\"] = clearned_data_df[\"image_url\"]\n",
    "cleaned_simple_df[\"title\"] = clearned_data_df[\"title\"]\n",
    "cleaned_simple_df[\"2_way_label\"] = clearned_data_df[\"2_way_label\"]\n",
    "cleaned_simple_df[\"3_way_label\"] = clearned_data_df[\"3_way_label\"]\n",
    "cleaned_simple_df[\"6_way_label\"] = clearned_data_df[\"6_way_label\"]\n",
    "cleaned_simple_df[\"id\"] = clearned_data_df[\"id\"]\n",
    "cleaned_simple_df[\"num_comments\"] = clearned_data_df[\"num_comments\"]"
   ]
  },
  {
   "cell_type": "code",
   "execution_count": 30,
   "id": "a9e413d5",
   "metadata": {},
   "outputs": [
    {
     "data": {
      "text/plain": [
       "(10541, 8)"
      ]
     },
     "execution_count": 30,
     "metadata": {},
     "output_type": "execute_result"
    }
   ],
   "source": [
    "cleaned_simple_df.shape"
   ]
  },
  {
   "cell_type": "code",
   "execution_count": 31,
   "id": "00c43ece",
   "metadata": {},
   "outputs": [],
   "source": [
    "cleaned_simple_df.to_csv(\"cleaned_simple.csv\")"
   ]
  }
 ],
 "metadata": {
  "kernelspec": {
   "display_name": "Python 3 (ipykernel)",
   "language": "python",
   "name": "python3"
  },
  "language_info": {
   "codemirror_mode": {
    "name": "ipython",
    "version": 3
   },
   "file_extension": ".py",
   "mimetype": "text/x-python",
   "name": "python",
   "nbconvert_exporter": "python",
   "pygments_lexer": "ipython3",
   "version": "3.7.9"
  }
 },
 "nbformat": 4,
 "nbformat_minor": 5
}
