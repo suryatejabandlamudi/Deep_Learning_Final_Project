{
 "cells": [
  {
   "cell_type": "code",
   "execution_count": 17,
   "id": "f8a8882b",
   "metadata": {},
   "outputs": [],
   "source": [
    "import tensorflow as tf\n",
    "from tensorflow.keras.applications.vgg16 import VGG16\n",
    "from tensorflow.keras.models import Sequential\n",
    "from tensorflow.keras.layers import Dense, Dropout, Flatten\n",
    "from tensorflow.keras.layers import Conv2D, MaxPooling2D\n",
    "from tensorflow.keras import backend as K\n",
    "from tensorflow.keras.utils import to_categorical\n",
    "from sklearn.model_selection import train_test_split\n",
    "from tensorflow.keras.models import Model\n",
    "import numpy as np\n",
    "import cv2\n",
    "import os\n",
    "from PIL import Image\n",
    "import pandas as pd\n",
    "import matplotlib.pyplot as plt\n",
    "from numpy import load"
   ]
  },
  {
   "cell_type": "code",
   "execution_count": 18,
   "id": "530f8351",
   "metadata": {},
   "outputs": [],
   "source": [
    "label = \"2_way_label\"\n",
    "model_name = \"model_2_way.h5\"\n",
    "num_of_classes = 2\n",
    "epochs = 20\n",
    "input_feature_size = 1536\n",
    "train_test_ratio = 0.1\n",
    "batch_size = 1\n"
   ]
  },
  {
   "cell_type": "code",
   "execution_count": 19,
   "id": "a025d4dc",
   "metadata": {},
   "outputs": [
    {
     "name": "stdout",
     "output_type": "stream",
     "text": [
      "(8293, 768)\n",
      "(8293, 768)\n"
     ]
    }
   ],
   "source": [
    "img_features = load('new_img_features.npy')\n",
    "bert_embeddings = load('new_bert_embeddings.npy')\n",
    "print(img_features.shape)\n",
    "print(bert_embeddings.shape)"
   ]
  },
  {
   "cell_type": "code",
   "execution_count": 20,
   "id": "c24b6eb9",
   "metadata": {},
   "outputs": [
    {
     "data": {
      "text/plain": [
       "(8293, 5)"
      ]
     },
     "execution_count": 20,
     "metadata": {},
     "output_type": "execute_result"
    }
   ],
   "source": [
    "features = pd.read_csv(\"data_without_features.csv\")\n",
    "features.shape"
   ]
  },
  {
   "cell_type": "code",
   "execution_count": 21,
   "id": "feeaba28",
   "metadata": {
    "scrolled": true
   },
   "outputs": [
    {
     "data": {
      "text/html": [
       "<div>\n",
       "<style scoped>\n",
       "    .dataframe tbody tr th:only-of-type {\n",
       "        vertical-align: middle;\n",
       "    }\n",
       "\n",
       "    .dataframe tbody tr th {\n",
       "        vertical-align: top;\n",
       "    }\n",
       "\n",
       "    .dataframe thead th {\n",
       "        text-align: right;\n",
       "    }\n",
       "</style>\n",
       "<table border=\"1\" class=\"dataframe\">\n",
       "  <thead>\n",
       "    <tr style=\"text-align: right;\">\n",
       "      <th></th>\n",
       "      <th>Unnamed: 0</th>\n",
       "      <th>img_path</th>\n",
       "      <th>2_way_label</th>\n",
       "      <th>3_way_label</th>\n",
       "      <th>6_way_label</th>\n",
       "    </tr>\n",
       "  </thead>\n",
       "  <tbody>\n",
       "    <tr>\n",
       "      <th>0</th>\n",
       "      <td>0</td>\n",
       "      <td>D:\\UB\\2nd_sem\\CSE_676_DL\\Project\\DL_work\\Code\\...</td>\n",
       "      <td>1.0</td>\n",
       "      <td>0.0</td>\n",
       "      <td>0.0</td>\n",
       "    </tr>\n",
       "    <tr>\n",
       "      <th>1</th>\n",
       "      <td>1</td>\n",
       "      <td>D:\\UB\\2nd_sem\\CSE_676_DL\\Project\\DL_work\\Code\\...</td>\n",
       "      <td>0.0</td>\n",
       "      <td>2.0</td>\n",
       "      <td>1.0</td>\n",
       "    </tr>\n",
       "    <tr>\n",
       "      <th>2</th>\n",
       "      <td>2</td>\n",
       "      <td>D:\\UB\\2nd_sem\\CSE_676_DL\\Project\\DL_work\\Code\\...</td>\n",
       "      <td>0.0</td>\n",
       "      <td>2.0</td>\n",
       "      <td>4.0</td>\n",
       "    </tr>\n",
       "    <tr>\n",
       "      <th>3</th>\n",
       "      <td>3</td>\n",
       "      <td>D:\\UB\\2nd_sem\\CSE_676_DL\\Project\\DL_work\\Code\\...</td>\n",
       "      <td>1.0</td>\n",
       "      <td>0.0</td>\n",
       "      <td>0.0</td>\n",
       "    </tr>\n",
       "    <tr>\n",
       "      <th>4</th>\n",
       "      <td>4</td>\n",
       "      <td>D:\\UB\\2nd_sem\\CSE_676_DL\\Project\\DL_work\\Code\\...</td>\n",
       "      <td>0.0</td>\n",
       "      <td>2.0</td>\n",
       "      <td>4.0</td>\n",
       "    </tr>\n",
       "  </tbody>\n",
       "</table>\n",
       "</div>"
      ],
      "text/plain": [
       "   Unnamed: 0                                           img_path  2_way_label  \\\n",
       "0           0  D:\\UB\\2nd_sem\\CSE_676_DL\\Project\\DL_work\\Code\\...          1.0   \n",
       "1           1  D:\\UB\\2nd_sem\\CSE_676_DL\\Project\\DL_work\\Code\\...          0.0   \n",
       "2           2  D:\\UB\\2nd_sem\\CSE_676_DL\\Project\\DL_work\\Code\\...          0.0   \n",
       "3           3  D:\\UB\\2nd_sem\\CSE_676_DL\\Project\\DL_work\\Code\\...          1.0   \n",
       "4           4  D:\\UB\\2nd_sem\\CSE_676_DL\\Project\\DL_work\\Code\\...          0.0   \n",
       "\n",
       "   3_way_label  6_way_label  \n",
       "0          0.0          0.0  \n",
       "1          2.0          1.0  \n",
       "2          2.0          4.0  \n",
       "3          0.0          0.0  \n",
       "4          2.0          4.0  "
      ]
     },
     "execution_count": 21,
     "metadata": {},
     "output_type": "execute_result"
    }
   ],
   "source": [
    "features.head()"
   ]
  },
  {
   "cell_type": "code",
   "execution_count": 22,
   "id": "a75a136c",
   "metadata": {},
   "outputs": [
    {
     "name": "stdout",
     "output_type": "stream",
     "text": [
      "Unnamed: 0                                                     0\n",
      "img_path       D:\\UB\\2nd_sem\\CSE_676_DL\\Project\\DL_work\\Code\\...\n",
      "2_way_label                                                    1\n",
      "3_way_label                                                    0\n",
      "6_way_label                                                    0\n",
      "Name: 0, dtype: object\n"
     ]
    }
   ],
   "source": [
    "print(features.iloc[0])"
   ]
  },
  {
   "cell_type": "code",
   "execution_count": 23,
   "id": "b35a0e62",
   "metadata": {},
   "outputs": [
    {
     "data": {
      "text/plain": [
       "(8293, 1536)"
      ]
     },
     "execution_count": 23,
     "metadata": {},
     "output_type": "execute_result"
    }
   ],
   "source": [
    "merged_features = np.concatenate((img_features, bert_embeddings), axis=1)\n",
    "merged_features.shape"
   ]
  },
  {
   "cell_type": "code",
   "execution_count": 24,
   "id": "ef6ab732",
   "metadata": {},
   "outputs": [],
   "source": [
    "X = merged_features\n",
    "Y = np.array(features[label])\n",
    "Y = tf.keras.utils.to_categorical(Y, num_of_classes)"
   ]
  },
  {
   "cell_type": "code",
   "execution_count": 25,
   "id": "67ca2f6d",
   "metadata": {},
   "outputs": [],
   "source": [
    "x_train, x_test, y_train, y_test = train_test_split(X, Y, test_size=train_test_ratio, random_state=123)"
   ]
  },
  {
   "cell_type": "code",
   "execution_count": 26,
   "id": "0e0f5016",
   "metadata": {},
   "outputs": [
    {
     "name": "stdout",
     "output_type": "stream",
     "text": [
      "x_train- (7463, 1536)\n",
      "x_test- (830, 1536)\n",
      "y_train- (7463, 2)\n",
      "y_test- (830, 2)\n"
     ]
    }
   ],
   "source": [
    "print(\"x_train-\",x_train.shape)\n",
    "print(\"x_test-\",x_test.shape)\n",
    "print(\"y_train-\",y_train.shape)\n",
    "print(\"y_test-\",y_test.shape)"
   ]
  },
  {
   "cell_type": "code",
   "execution_count": 27,
   "id": "759520a4",
   "metadata": {},
   "outputs": [
    {
     "name": "stdout",
     "output_type": "stream",
     "text": [
      "x_train shape: (7463, 1536)\n",
      "7463 train samples\n",
      "830 test samples\n"
     ]
    }
   ],
   "source": [
    "x_train = x_train.astype('float32')\n",
    "x_test = x_test.astype('float32')\n",
    "# x_train /= 255\n",
    "# x_test /= 255\n",
    "print('x_train shape:', x_train.shape)\n",
    "print(x_train.shape[0], 'train samples')\n",
    "print(x_test.shape[0], 'test samples')"
   ]
  },
  {
   "cell_type": "code",
   "execution_count": 28,
   "id": "e9784eaf",
   "metadata": {},
   "outputs": [
    {
     "name": "stdout",
     "output_type": "stream",
     "text": [
      "Model: \"sequential_1\"\n",
      "_________________________________________________________________\n",
      "Layer (type)                 Output Shape              Param #   \n",
      "=================================================================\n",
      "dense_5 (Dense)              (None, 256)               393472    \n",
      "_________________________________________________________________\n",
      "dense_6 (Dense)              (None, 128)               32896     \n",
      "_________________________________________________________________\n",
      "dense_7 (Dense)              (None, 64)                8256      \n",
      "_________________________________________________________________\n",
      "dense_8 (Dense)              (None, 32)                2080      \n",
      "_________________________________________________________________\n",
      "dense_9 (Dense)              (None, 2)                 66        \n",
      "=================================================================\n",
      "Total params: 436,770\n",
      "Trainable params: 436,770\n",
      "Non-trainable params: 0\n",
      "_________________________________________________________________\n",
      "Model Summary- None\n"
     ]
    }
   ],
   "source": [
    "model = Sequential()\n",
    "\n",
    "model.add(Dense(256, input_dim=input_feature_size,  activation='relu'))\n",
    "model.add(Dense(128, activation='relu'))\n",
    "model.add(Dense(64, activation='relu'))\n",
    "model.add(Dense(32, activation='relu'))\n",
    "model.add(Dense(num_of_classes, activation='softmax'))\n",
    "\n",
    "model.compile(loss='binary_crossentropy', optimizer='adam', metrics=['accuracy'])\n",
    "\n",
    "print(\"Model Summary-\",model.summary())"
   ]
  },
  {
   "cell_type": "code",
   "execution_count": 29,
   "id": "762adf2a",
   "metadata": {},
   "outputs": [
    {
     "name": "stdout",
     "output_type": "stream",
     "text": [
      "Epoch 1/20\n",
      "7463/7463 [==============================] - 10s 1ms/sample - loss: 0.5908 - acc: 0.6720\n",
      "Epoch 2/20\n",
      "7463/7463 [==============================] - 10s 1ms/sample - loss: 0.5504 - acc: 0.7103\n",
      "Epoch 3/20\n",
      "7463/7463 [==============================] - 10s 1ms/sample - loss: 0.5275 - acc: 0.7295\n",
      "Epoch 4/20\n",
      "7463/7463 [==============================] - 9s 1ms/sample - loss: 0.5196 - acc: 0.7350\n",
      "Epoch 5/20\n",
      "7463/7463 [==============================] - 9s 1ms/sample - loss: 0.5096 - acc: 0.7434\n",
      "Epoch 6/20\n",
      "7463/7463 [==============================] - 9s 1ms/sample - loss: 0.4966 - acc: 0.7490\n",
      "Epoch 7/20\n",
      "7463/7463 [==============================] - 9s 1ms/sample - loss: 0.4932 - acc: 0.7563\n",
      "Epoch 8/20\n",
      "7463/7463 [==============================] - 9s 1ms/sample - loss: 0.4915 - acc: 0.7545\n",
      "Epoch 9/20\n",
      "7463/7463 [==============================] - 9s 1ms/sample - loss: 0.4833 - acc: 0.7615\n",
      "Epoch 10/20\n",
      "7463/7463 [==============================] - 9s 1ms/sample - loss: 0.4790 - acc: 0.7638\n",
      "Epoch 11/20\n",
      "7463/7463 [==============================] - 9s 1ms/sample - loss: 0.4835 - acc: 0.7604\n",
      "Epoch 12/20\n",
      "7463/7463 [==============================] - 9s 1ms/sample - loss: 0.4747 - acc: 0.7687\n",
      "Epoch 13/20\n",
      "7463/7463 [==============================] - 9s 1ms/sample - loss: 0.4662 - acc: 0.7691\n",
      "Epoch 14/20\n",
      "7463/7463 [==============================] - 9s 1ms/sample - loss: 0.4676 - acc: 0.7722\n",
      "Epoch 15/20\n",
      "7463/7463 [==============================] - 9s 1ms/sample - loss: 0.4612 - acc: 0.7784\n",
      "Epoch 16/20\n",
      "7463/7463 [==============================] - 9s 1ms/sample - loss: 0.4586 - acc: 0.7772\n",
      "Epoch 17/20\n",
      "7463/7463 [==============================] - 9s 1ms/sample - loss: 0.4589 - acc: 0.7772\n",
      "Epoch 18/20\n",
      "7463/7463 [==============================] - 9s 1ms/sample - loss: 0.4577 - acc: 0.7786\n",
      "Epoch 19/20\n",
      "7463/7463 [==============================] - 9s 1ms/sample - loss: 0.4523 - acc: 0.7843\n",
      "Epoch 20/20\n",
      "7463/7463 [==============================] - 9s 1ms/sample - loss: 0.4471 - acc: 0.7932\n"
     ]
    },
    {
     "data": {
      "text/plain": [
       "<tensorflow.python.keras.callbacks.History at 0x18a03a96d88>"
      ]
     },
     "execution_count": 29,
     "metadata": {},
     "output_type": "execute_result"
    }
   ],
   "source": [
    "model.fit(x_train, y_train, batch_size=batch_size, epochs=epochs)"
   ]
  },
  {
   "cell_type": "code",
   "execution_count": 30,
   "id": "fd1e16c3",
   "metadata": {},
   "outputs": [
    {
     "name": "stdout",
     "output_type": "stream",
     "text": [
      "830/830 [==============================] - 0s 62us/sample - loss: 0.5318 - acc: 0.7325\n",
      "Test loss: 0.5317642533635518\n",
      "Test accuracy: 0.7325301\n"
     ]
    }
   ],
   "source": [
    "score = model.evaluate(x_test, y_test)\n",
    "print('Test loss:', score[0])\n",
    "print('Test accuracy:', score[1])"
   ]
  },
  {
   "cell_type": "code",
   "execution_count": 14,
   "id": "b9dfdb92",
   "metadata": {},
   "outputs": [],
   "source": [
    "model.save(model_name)"
   ]
  },
  {
   "cell_type": "code",
   "execution_count": null,
   "id": "ca4ec406",
   "metadata": {},
   "outputs": [],
   "source": []
  },
  {
   "cell_type": "code",
   "execution_count": null,
   "id": "764f5537",
   "metadata": {},
   "outputs": [],
   "source": []
  },
  {
   "cell_type": "code",
   "execution_count": null,
   "id": "d64501d2",
   "metadata": {},
   "outputs": [],
   "source": []
  },
  {
   "cell_type": "code",
   "execution_count": null,
   "id": "5d9065db",
   "metadata": {},
   "outputs": [],
   "source": []
  },
  {
   "cell_type": "code",
   "execution_count": null,
   "id": "0b898458",
   "metadata": {},
   "outputs": [],
   "source": []
  }
 ],
 "metadata": {
  "kernelspec": {
   "display_name": "Python 3 (ipykernel)",
   "language": "python",
   "name": "python3"
  },
  "language_info": {
   "codemirror_mode": {
    "name": "ipython",
    "version": 3
   },
   "file_extension": ".py",
   "mimetype": "text/x-python",
   "name": "python",
   "nbconvert_exporter": "python",
   "pygments_lexer": "ipython3",
   "version": "3.7.9"
  }
 },
 "nbformat": 4,
 "nbformat_minor": 5
}
