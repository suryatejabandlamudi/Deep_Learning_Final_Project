{
 "cells": [
  {
   "cell_type": "code",
   "execution_count": 3,
   "id": "f8a8882b",
   "metadata": {},
   "outputs": [],
   "source": [
    "import tensorflow as tf\n",
    "from tensorflow.keras.applications.vgg16 import VGG16\n",
    "from tensorflow.keras.models import Sequential\n",
    "from tensorflow.keras.layers import Dense, Dropout, Flatten\n",
    "from tensorflow.keras.layers import Conv2D, MaxPooling2D\n",
    "from tensorflow.keras import backend as K\n",
    "from tensorflow.keras.utils import to_categorical\n",
    "from sklearn.model_selection import train_test_split\n",
    "from tensorflow.keras.models import Model\n",
    "import numpy as np\n",
    "import cv2\n",
    "import os\n",
    "from PIL import Image\n",
    "import pandas as pd\n",
    "import matplotlib.pyplot as plt\n",
    "from numpy import load\n"
   ]
  },
  {
   "cell_type": "code",
   "execution_count": 4,
   "id": "530f8351",
   "metadata": {},
   "outputs": [],
   "source": [
    "label = \"6_way_label\"\n",
    "model_name = \"model_6_way.h5\"\n",
    "num_of_classes = 6\n",
    "epochs = 20\n",
    "input_feature_size = 1536\n",
    "train_test_ratio = 0.1\n",
    "batch_size = 1\n"
   ]
  },
  {
   "cell_type": "code",
   "execution_count": 5,
   "id": "a025d4dc",
   "metadata": {},
   "outputs": [
    {
     "name": "stdout",
     "output_type": "stream",
     "text": [
      "(8319, 768)\n",
      "(8319, 768)\n"
     ]
    }
   ],
   "source": [
    "img_features = load('new_img_features.npy')\n",
    "bert_embeddings = load('new_bert_embeddings.npy')\n",
    "print(img_features.shape)\n",
    "print(bert_embeddings.shape)"
   ]
  },
  {
   "cell_type": "code",
   "execution_count": 6,
   "id": "c24b6eb9",
   "metadata": {},
   "outputs": [
    {
     "data": {
      "text/plain": [
       "(8319, 5)"
      ]
     },
     "execution_count": 6,
     "metadata": {},
     "output_type": "execute_result"
    }
   ],
   "source": [
    "features = pd.read_csv(\"data_without_features.csv\")\n",
    "features.shape"
   ]
  },
  {
   "cell_type": "code",
   "execution_count": 7,
   "id": "feeaba28",
   "metadata": {},
   "outputs": [
    {
     "data": {
      "text/html": [
       "<div>\n",
       "<style scoped>\n",
       "    .dataframe tbody tr th:only-of-type {\n",
       "        vertical-align: middle;\n",
       "    }\n",
       "\n",
       "    .dataframe tbody tr th {\n",
       "        vertical-align: top;\n",
       "    }\n",
       "\n",
       "    .dataframe thead th {\n",
       "        text-align: right;\n",
       "    }\n",
       "</style>\n",
       "<table border=\"1\" class=\"dataframe\">\n",
       "  <thead>\n",
       "    <tr style=\"text-align: right;\">\n",
       "      <th></th>\n",
       "      <th>Unnamed: 0</th>\n",
       "      <th>img_path</th>\n",
       "      <th>2_way_label</th>\n",
       "      <th>3_way_label</th>\n",
       "      <th>6_way_label</th>\n",
       "    </tr>\n",
       "  </thead>\n",
       "  <tbody>\n",
       "    <tr>\n",
       "      <th>0</th>\n",
       "      <td>0</td>\n",
       "      <td>D:\\UB\\2nd_sem\\CSE_676_DL\\Project\\DL_work\\Code\\...</td>\n",
       "      <td>1.0</td>\n",
       "      <td>0.0</td>\n",
       "      <td>0.0</td>\n",
       "    </tr>\n",
       "    <tr>\n",
       "      <th>1</th>\n",
       "      <td>1</td>\n",
       "      <td>D:\\UB\\2nd_sem\\CSE_676_DL\\Project\\DL_work\\Code\\...</td>\n",
       "      <td>0.0</td>\n",
       "      <td>2.0</td>\n",
       "      <td>1.0</td>\n",
       "    </tr>\n",
       "    <tr>\n",
       "      <th>2</th>\n",
       "      <td>2</td>\n",
       "      <td>D:\\UB\\2nd_sem\\CSE_676_DL\\Project\\DL_work\\Code\\...</td>\n",
       "      <td>0.0</td>\n",
       "      <td>2.0</td>\n",
       "      <td>4.0</td>\n",
       "    </tr>\n",
       "    <tr>\n",
       "      <th>3</th>\n",
       "      <td>3</td>\n",
       "      <td>D:\\UB\\2nd_sem\\CSE_676_DL\\Project\\DL_work\\Code\\...</td>\n",
       "      <td>1.0</td>\n",
       "      <td>0.0</td>\n",
       "      <td>0.0</td>\n",
       "    </tr>\n",
       "    <tr>\n",
       "      <th>4</th>\n",
       "      <td>4</td>\n",
       "      <td>D:\\UB\\2nd_sem\\CSE_676_DL\\Project\\DL_work\\Code\\...</td>\n",
       "      <td>0.0</td>\n",
       "      <td>2.0</td>\n",
       "      <td>4.0</td>\n",
       "    </tr>\n",
       "  </tbody>\n",
       "</table>\n",
       "</div>"
      ],
      "text/plain": [
       "   Unnamed: 0                                           img_path  2_way_label  \\\n",
       "0           0  D:\\UB\\2nd_sem\\CSE_676_DL\\Project\\DL_work\\Code\\...          1.0   \n",
       "1           1  D:\\UB\\2nd_sem\\CSE_676_DL\\Project\\DL_work\\Code\\...          0.0   \n",
       "2           2  D:\\UB\\2nd_sem\\CSE_676_DL\\Project\\DL_work\\Code\\...          0.0   \n",
       "3           3  D:\\UB\\2nd_sem\\CSE_676_DL\\Project\\DL_work\\Code\\...          1.0   \n",
       "4           4  D:\\UB\\2nd_sem\\CSE_676_DL\\Project\\DL_work\\Code\\...          0.0   \n",
       "\n",
       "   3_way_label  6_way_label  \n",
       "0          0.0          0.0  \n",
       "1          2.0          1.0  \n",
       "2          2.0          4.0  \n",
       "3          0.0          0.0  \n",
       "4          2.0          4.0  "
      ]
     },
     "execution_count": 7,
     "metadata": {},
     "output_type": "execute_result"
    }
   ],
   "source": [
    "features.head()"
   ]
  },
  {
   "cell_type": "code",
   "execution_count": 8,
   "id": "b35a0e62",
   "metadata": {},
   "outputs": [
    {
     "data": {
      "text/plain": [
       "(8319, 1536)"
      ]
     },
     "execution_count": 8,
     "metadata": {},
     "output_type": "execute_result"
    }
   ],
   "source": [
    "merged_features = np.concatenate((img_features, bert_embeddings), axis=1)\n",
    "merged_features.shape"
   ]
  },
  {
   "cell_type": "code",
   "execution_count": 9,
   "id": "ef6ab732",
   "metadata": {},
   "outputs": [],
   "source": [
    "X = merged_features\n",
    "Y = np.array(features[label])\n",
    "Y = tf.keras.utils.to_categorical(Y, num_of_classes)"
   ]
  },
  {
   "cell_type": "code",
   "execution_count": 10,
   "id": "67ca2f6d",
   "metadata": {},
   "outputs": [],
   "source": [
    "x_train, x_test, y_train, y_test = train_test_split(X, Y, test_size=train_test_ratio, random_state=123)"
   ]
  },
  {
   "cell_type": "code",
   "execution_count": 11,
   "id": "0e0f5016",
   "metadata": {},
   "outputs": [
    {
     "name": "stdout",
     "output_type": "stream",
     "text": [
      "x_train- (7487, 1536)\n",
      "x_test- (832, 1536)\n",
      "y_train- (7487, 6)\n",
      "y_test- (832, 6)\n"
     ]
    }
   ],
   "source": [
    "print(\"x_train-\",x_train.shape)\n",
    "print(\"x_test-\",x_test.shape)\n",
    "print(\"y_train-\",y_train.shape)\n",
    "print(\"y_test-\",y_test.shape)"
   ]
  },
  {
   "cell_type": "code",
   "execution_count": 12,
   "id": "759520a4",
   "metadata": {},
   "outputs": [
    {
     "name": "stdout",
     "output_type": "stream",
     "text": [
      "x_train shape: (7487, 1536)\n",
      "7487 train samples\n",
      "832 test samples\n"
     ]
    }
   ],
   "source": [
    "x_train = x_train.astype('float32')\n",
    "x_test = x_test.astype('float32')\n",
    "x_train /= 255\n",
    "x_test /= 255\n",
    "print('x_train shape:', x_train.shape)\n",
    "print(x_train.shape[0], 'train samples')\n",
    "print(x_test.shape[0], 'test samples')"
   ]
  },
  {
   "cell_type": "code",
   "execution_count": 13,
   "id": "e9784eaf",
   "metadata": {},
   "outputs": [
    {
     "name": "stdout",
     "output_type": "stream",
     "text": [
      "WARNING:tensorflow:From d:\\python_env\\ub_3_7\\lib\\site-packages\\tensorflow\\python\\ops\\init_ops.py:1251: calling VarianceScaling.__init__ (from tensorflow.python.ops.init_ops) with dtype is deprecated and will be removed in a future version.\n",
      "Instructions for updating:\n",
      "Call initializer instance with the dtype argument instead of passing it to the constructor\n",
      "Model: \"sequential\"\n",
      "_________________________________________________________________\n",
      "Layer (type)                 Output Shape              Param #   \n",
      "=================================================================\n",
      "dense (Dense)                (None, 256)               393472    \n",
      "_________________________________________________________________\n",
      "dense_1 (Dense)              (None, 128)               32896     \n",
      "_________________________________________________________________\n",
      "dense_2 (Dense)              (None, 64)                8256      \n",
      "_________________________________________________________________\n",
      "dense_3 (Dense)              (None, 32)                2080      \n",
      "_________________________________________________________________\n",
      "dense_4 (Dense)              (None, 6)                 198       \n",
      "=================================================================\n",
      "Total params: 436,902\n",
      "Trainable params: 436,902\n",
      "Non-trainable params: 0\n",
      "_________________________________________________________________\n",
      "Model Summary- None\n"
     ]
    }
   ],
   "source": [
    "model = Sequential()\n",
    "\n",
    "model.add(Dense(256, input_dim=input_feature_size,  activation='relu'))\n",
    "model.add(Dense(128, activation='relu'))\n",
    "model.add(Dense(64, activation='relu'))\n",
    "model.add(Dense(32, activation='relu'))\n",
    "model.add(Dense(num_of_classes, activation='softmax'))\n",
    "\n",
    "model.compile(loss='binary_crossentropy', optimizer='adam', metrics=['accuracy'])\n",
    "\n",
    "print(\"Model Summary-\",model.summary())"
   ]
  },
  {
   "cell_type": "code",
   "execution_count": 14,
   "id": "762adf2a",
   "metadata": {},
   "outputs": [
    {
     "name": "stdout",
     "output_type": "stream",
     "text": [
      "WARNING:tensorflow:From d:\\python_env\\ub_3_7\\lib\\site-packages\\tensorflow\\python\\ops\\math_grad.py:1250: add_dispatch_support.<locals>.wrapper (from tensorflow.python.ops.array_ops) is deprecated and will be removed in a future version.\n",
      "Instructions for updating:\n",
      "Use tf.where in 2.0, which has the same broadcast rule as np.where\n",
      "Epoch 1/20\n",
      "7487/7487 [==============================] - 9s 1ms/sample - loss: 0.3439 - acc: 0.8516\n",
      "Epoch 2/20\n",
      "7487/7487 [==============================] - 9s 1ms/sample - loss: 0.3137 - acc: 0.8681\n",
      "Epoch 3/20\n",
      "7487/7487 [==============================] - 9s 1ms/sample - loss: 0.3010 - acc: 0.8742\n",
      "Epoch 4/20\n",
      "7487/7487 [==============================] - 9s 1ms/sample - loss: 0.2923 - acc: 0.8789\n",
      "Epoch 5/20\n",
      "7487/7487 [==============================] - 9s 1ms/sample - loss: 0.2851 - acc: 0.8801\n",
      "Epoch 6/20\n",
      "7487/7487 [==============================] - 9s 1ms/sample - loss: 0.2798 - acc: 0.8831\n",
      "Epoch 7/20\n",
      "7487/7487 [==============================] - 9s 1ms/sample - loss: 0.2752 - acc: 0.8841\n",
      "Epoch 8/20\n",
      "7487/7487 [==============================] - 9s 1ms/sample - loss: 0.2697 - acc: 0.8878\n",
      "Epoch 9/20\n",
      "7487/7487 [==============================] - 9s 1ms/sample - loss: 0.2645 - acc: 0.8907\n",
      "Epoch 10/20\n",
      "7487/7487 [==============================] - 9s 1ms/sample - loss: 0.2613 - acc: 0.8916\n",
      "Epoch 11/20\n",
      "7487/7487 [==============================] - 9s 1ms/sample - loss: 0.2580 - acc: 0.8912\n",
      "Epoch 12/20\n",
      "7487/7487 [==============================] - 9s 1ms/sample - loss: 0.2554 - acc: 0.8940\n",
      "Epoch 13/20\n",
      "7487/7487 [==============================] - 9s 1ms/sample - loss: 0.2488 - acc: 0.8977\n",
      "Epoch 14/20\n",
      "7487/7487 [==============================] - 8s 1ms/sample - loss: 0.2451 - acc: 0.8985\n",
      "Epoch 15/20\n",
      "7487/7487 [==============================] - 8s 1ms/sample - loss: 0.2425 - acc: 0.8998\n",
      "Epoch 16/20\n",
      "7487/7487 [==============================] - 9s 1ms/sample - loss: 0.2388 - acc: 0.9012\n",
      "Epoch 17/20\n",
      "7487/7487 [==============================] - 8s 1ms/sample - loss: 0.2379 - acc: 0.9025\n",
      "Epoch 18/20\n",
      "7487/7487 [==============================] - 8s 1ms/sample - loss: 0.2325 - acc: 0.9048\n",
      "Epoch 19/20\n",
      "7487/7487 [==============================] - 8s 1ms/sample - loss: 0.2304 - acc: 0.9060\n",
      "Epoch 20/20\n",
      "7487/7487 [==============================] - 8s 1ms/sample - loss: 0.2257 - acc: 0.9079\n"
     ]
    },
    {
     "data": {
      "text/plain": [
       "<tensorflow.python.keras.callbacks.History at 0x217988cdf88>"
      ]
     },
     "execution_count": 14,
     "metadata": {},
     "output_type": "execute_result"
    }
   ],
   "source": [
    "model.fit(x_train, y_train, batch_size=batch_size, epochs=epochs)"
   ]
  },
  {
   "cell_type": "code",
   "execution_count": 15,
   "id": "fd1e16c3",
   "metadata": {},
   "outputs": [
    {
     "name": "stdout",
     "output_type": "stream",
     "text": [
      "832/832 [==============================] - 0s 54us/sample - loss: 0.3309 - acc: 0.8708\n",
      "Test loss: 0.3308791294693947\n",
      "Test accuracy: 0.8707932\n"
     ]
    }
   ],
   "source": [
    "score = model.evaluate(x_test, y_test)\n",
    "print('Test loss:', score[0])\n",
    "print('Test accuracy:', score[1])"
   ]
  },
  {
   "cell_type": "code",
   "execution_count": 16,
   "id": "b9dfdb92",
   "metadata": {},
   "outputs": [],
   "source": [
    "model.save(model_name)"
   ]
  }
 ],
 "metadata": {
  "kernelspec": {
   "display_name": "Python 3 (ipykernel)",
   "language": "python",
   "name": "python3"
  },
  "language_info": {
   "codemirror_mode": {
    "name": "ipython",
    "version": 3
   },
   "file_extension": ".py",
   "mimetype": "text/x-python",
   "name": "python",
   "nbconvert_exporter": "python",
   "pygments_lexer": "ipython3",
   "version": "3.7.9"
  }
 },
 "nbformat": 4,
 "nbformat_minor": 5
}
